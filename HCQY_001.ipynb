{
 "cells": [
  {
   "cell_type": "code",
   "execution_count": null,
   "id": "7c4160a2",
   "metadata": {},
   "outputs": [],
   "source": []
  },
  {
   "cell_type": "markdown",
   "id": "26faaeca",
   "metadata": {},
   "source": [
    "# High content quantum yield "
   ]
  },
  {
   "cell_type": "markdown",
   "id": "d565e150",
   "metadata": {},
   "source": [
    "### Notes\n",
    "\n",
    "#### refractive index\n",
    "\n",
    "need to research standard values\n",
    "DMSO = 1.479\n",
    "DMF = 1.4305\n",
    "\n",
    "#### Fluorescence quantum yields standard values\n",
    "\n",
    "tpp\n",
    "\n",
    "0.14 from Chris\n",
    "\n",
    "3OH\n",
    "\n"
   ]
  },
  {
   "cell_type": "code",
   "execution_count": 1,
   "id": "299354ac",
   "metadata": {},
   "outputs": [],
   "source": [
    "import os\n",
    "import pandas as pd\n",
    "import numpy as np\n"
   ]
  },
  {
   "cell_type": "code",
   "execution_count": 2,
   "id": "9a1ccc6e",
   "metadata": {},
   "outputs": [
    {
     "data": {
      "text/plain": [
       "'C:\\\\Users\\\\hwbst6\\\\OneDrive - Sheffield Hallam University\\\\StudentProjects\\\\Student projects 2022_23\\\\MSc\\\\Bhargav\\\\140623'"
      ]
     },
     "execution_count": 2,
     "metadata": {},
     "output_type": "execute_result"
    }
   ],
   "source": [
    "pwd"
   ]
  },
  {
   "cell_type": "code",
   "execution_count": 3,
   "id": "951b2411",
   "metadata": {},
   "outputs": [
    {
     "name": "stdout",
     "output_type": "stream",
     "text": [
      "C:\\Users\\hwbst6\\OneDrive - Sheffield Hallam University\\MChem\\Tom White\n"
     ]
    }
   ],
   "source": [
    "cd C:\\\\Users\\\\hwbst6\\\\OneDrive - Sheffield Hallam University\\\\MChem\\\\Tom White"
   ]
  },
  {
   "cell_type": "code",
   "execution_count": 4,
   "id": "9bb2a760",
   "metadata": {},
   "outputs": [
    {
     "data": {
      "text/plain": [
       "'C:\\\\Users\\\\hwbst6\\\\OneDrive - Sheffield Hallam University\\\\MChem\\\\Tom White'"
      ]
     },
     "execution_count": 4,
     "metadata": {},
     "output_type": "execute_result"
    }
   ],
   "source": [
    "pwd"
   ]
  },
  {
   "cell_type": "code",
   "execution_count": 5,
   "id": "31163bc0",
   "metadata": {},
   "outputs": [
    {
     "name": "stdout",
     "output_type": "stream",
     "text": [
      " Volume in drive C is Windows\n",
      " Volume Serial Number is 4632-2130\n",
      "\n",
      " Directory of C:\\Users\\hwbst6\\OneDrive - Sheffield Hallam University\\MChem\\Tom White\n",
      "\n",
      "11/10/2023  10:50    <DIR>          .\n",
      "11/10/2023  10:50    <DIR>          ..\n",
      "11/10/2023  10:40    <DIR>          ChrisData\n",
      "27/09/2023  12:51         1,074,026 Tom White risk assessment form September 2023 word format (002).docx\n",
      "03/10/2023  22:17           628,906 Tom White risk assessment form September 2023 word format SMT.docx\n",
      "09/10/2023  18:05           640,870 Tom White risk assessment SMT 06102023-DK 09102023.docx\n",
      "22/09/2023  12:58           125,602 Tom White UREC1 MChem project September 2023 word format.docx\n",
      "16/10/2023  11:16    <DIR>          TomWhiteHCQY23\n",
      "               4 File(s)      2,469,404 bytes\n",
      "               4 Dir(s)  138,741,420,032 bytes free\n"
     ]
    }
   ],
   "source": [
    "ls"
   ]
  },
  {
   "cell_type": "code",
   "execution_count": null,
   "id": "2f42e0a7",
   "metadata": {},
   "outputs": [],
   "source": [
    "cd C:\\\\Users\\\\hwbst6\\\\OneDrive - Sheffield Hallam University\\\\MChem\\\\Tom White"
   ]
  },
  {
   "cell_type": "code",
   "execution_count": 14,
   "id": "0a845624",
   "metadata": {},
   "outputs": [
    {
     "data": {
      "text/plain": [
       "'C:\\\\Users\\\\hwbst6\\\\OneDrive - Sheffield Hallam University\\\\MChem\\\\Tom White'"
      ]
     },
     "execution_count": 14,
     "metadata": {},
     "output_type": "execute_result"
    }
   ],
   "source": [
    "pwd"
   ]
  },
  {
   "cell_type": "code",
   "execution_count": 15,
   "id": "fb3b9ead",
   "metadata": {},
   "outputs": [
    {
     "name": "stdout",
     "output_type": "stream",
     "text": [
      "C:\\Users\\hwbst6\\OneDrive - Sheffield Hallam University\\MChem\\Tom White\\TomWhiteHCQY23\n"
     ]
    }
   ],
   "source": [
    "cd TomWhiteHCQY23"
   ]
  },
  {
   "cell_type": "code",
   "execution_count": 16,
   "id": "64c92c58",
   "metadata": {},
   "outputs": [
    {
     "name": "stdout",
     "output_type": "stream",
     "text": [
      " Volume in drive C is Windows\n",
      " Volume Serial Number is 4632-2130\n",
      "\n",
      " Directory of C:\\Users\\hwbst6\\OneDrive - Sheffield Hallam University\\MChem\\Tom White\\TomWhiteHCQY23\n",
      "\n",
      "16/10/2023  11:16    <DIR>          .\n",
      "16/10/2023  11:16    <DIR>          ..\n",
      "11/10/2023  13:23            33,800 hcqy_plate_map_smt_edit_11202023.xlsx\n",
      "16/10/2023  11:14    <DIR>          tw_\n",
      "16/10/2023  11:16    <DIR>          tw_hcqy_13102023\n",
      "               1 File(s)         33,800 bytes\n",
      "               4 Dir(s)  138,705,387,520 bytes free\n"
     ]
    }
   ],
   "source": [
    "ls"
   ]
  },
  {
   "cell_type": "code",
   "execution_count": 6,
   "id": "4339cc1c",
   "metadata": {},
   "outputs": [
    {
     "name": "stdout",
     "output_type": "stream",
     "text": [
      "   Well    400    402    404    406    408    410    412    414    416  ...  \\\n",
      "0    A1  0.042  0.043  0.042  0.042  0.043  0.044  0.045  0.047   0.05  ...   \n",
      "1    A2  0.539  0.567  0.619  0.714   0.88  1.134  1.452  1.768  1.957  ...   \n",
      "2    A3  0.361  0.381  0.414  0.477  0.593  0.774  1.021  1.302  1.502  ...   \n",
      "3    A4  0.236  0.248  0.268  0.305  0.376   0.49  0.648  0.834  0.966  ...   \n",
      "4    A5  0.138  0.143  0.153  0.172  0.207  0.263  0.344  0.437  0.499  ...   \n",
      "5    A6  0.084  0.087  0.091  0.099  0.115  0.141  0.177  0.218  0.246  ...   \n",
      "6    A7  0.048  0.048  0.048  0.048  0.048  0.049  0.049  0.049   0.05  ...   \n",
      "7    A8  1.273  1.347  1.402  1.499  1.698  1.967  2.197  2.386   2.44  ...   \n",
      "8    A9  0.865   0.91  0.947   1.02  1.171  1.424  1.752  2.047  2.225  ...   \n",
      "9   A10  0.479  0.503  0.523  0.563  0.649  0.809  1.052  1.388  1.758  ...   \n",
      "10  A11  0.253  0.265  0.275  0.295  0.339  0.421  0.554  0.751  0.997  ...   \n",
      "11  A12  0.133  0.138  0.141  0.147  0.165  0.196  0.246  0.324  0.421  ...   \n",
      "12   B1  0.045  0.045  0.045  0.045  0.046  0.046  0.046  0.047  0.047  ...   \n",
      "13   B2  0.527  0.556  0.606  0.699  0.864  1.117  1.436  1.749  1.951  ...   \n",
      "\n",
      "      782    784    786    788    790    792    794    796    798    800  \n",
      "0   0.026  0.025  0.027  0.027  0.026  0.025  0.027  0.026  0.027  0.027  \n",
      "1   0.028  0.027  0.029  0.029  0.028  0.028  0.028  0.028  0.028  0.028  \n",
      "2   0.026  0.025  0.027  0.028  0.026  0.026  0.026  0.026  0.026  0.026  \n",
      "3   0.027  0.026  0.027  0.028  0.026  0.026  0.027  0.026  0.026  0.026  \n",
      "4   0.025  0.024  0.025  0.026  0.025  0.024  0.025  0.025  0.025  0.025  \n",
      "5   0.025  0.025  0.025  0.026  0.025  0.024  0.025  0.025  0.025  0.025  \n",
      "6   0.027  0.026  0.028  0.028  0.027  0.026  0.027  0.026  0.026  0.026  \n",
      "7   0.029  0.029  0.029   0.03  0.029  0.028  0.029  0.029  0.028  0.028  \n",
      "8    0.03   0.03   0.03  0.031  0.031  0.029   0.03  0.029   0.03   0.03  \n",
      "9   0.028  0.028  0.029  0.029  0.028  0.028  0.028  0.028  0.028  0.028  \n",
      "10  0.037  0.036  0.037  0.037  0.037  0.037  0.036  0.036  0.036  0.036  \n",
      "11  0.036  0.036  0.037  0.038  0.037  0.036  0.036  0.036  0.036  0.036  \n",
      "12  0.029  0.029  0.031  0.031   0.03  0.029  0.031   0.03   0.03   0.03  \n",
      "13  0.028  0.027  0.029  0.029  0.028  0.027  0.028  0.027  0.027  0.027  \n",
      "\n",
      "[14 rows x 202 columns]\n"
     ]
    }
   ],
   "source": [
    "#script for converting *.xlsx or csv data to a neat UV/vis format\n",
    "\n",
    "import os\n",
    "import pandas as pd\n",
    "import numpy as np\n",
    "\n",
    "# input varibles go here\n",
    "abs_sht_name = \"TRno4895\" # this is varible for sheet name/experiment number\n",
    "#sps_name = \"RNA Quantiabsor-003- 5-7-22.xlsx\" # this is the spread sheet name if your using a spread sheet\n",
    "abs_inp= pd.DataFrame()\n",
    "#load in plate reader output uncomment the one you want to use\n",
    "try:\n",
    "    # use this if your reading in from a multisheet excel\n",
    "    #abs_inp = pd.read_excel(sps_name, sheet_name = sht_name)\n",
    "\n",
    "    # use this if your reading from a *csv file\n",
    "    abs_inp = pd.read_csv(abs_sht_name + '.csv')\n",
    "except PermissionError:\n",
    "    print('The file we are trying to open may be open in another program, please close and try again!')\n",
    "    \n",
    "\n",
    "try: #transpose and remove some columns, these may need changeing\n",
    "    abs_inp= pd.DataFrame.transpose(abs_inp)\n",
    "    abs_inp = abs_inp.drop(axis=1, columns=[0,1,2,3])\n",
    "    #print(abs_inp)\n",
    "except KeyError:\n",
    "    print('Check the your input file!') \n",
    "    \n",
    "try:    #abs_inp.sort_index()\n",
    "    abs_inp = abs_inp.reset_index(drop=True)\n",
    "    #build well name and remove related columns\n",
    "    abs_inp.iloc[0:,1] = abs_inp.iloc[0:,1].astype(str)\n",
    "    abs_inp.iloc[0:,2] = abs_inp.iloc[0:,0].astype(str) + abs_inp.iloc[0:,1].astype(str)\n",
    "    \n",
    "    abs_inp = abs_inp.drop(axis=1, columns=[4,5])\n",
    "    abs_inp = pd.DataFrame.drop(abs_inp,axis=0, index=0)\n",
    "    abs_inp.iloc[0,0] = \"Well\"\n",
    "except IndexError:\n",
    "    print('Check the your input file!')\n",
    "\n",
    "try:     \n",
    "    abs_inp.rename(columns=abs_inp.iloc[0,0:], inplace=True) # set row 0 as col titles\n",
    "    abs_inp = abs_inp.reset_index(drop=True)\n",
    "    abs_inp = pd.DataFrame.drop(abs_inp, axis=0, index=0)\n",
    "    abs_inp = abs_inp.reset_index(drop=True)\n",
    "    \n",
    "    #print(abs_inp)\n",
    "except KeyError:\n",
    "    print('Check the your input file!')\n",
    "try: #output results\n",
    "    abs_inp.to_csv(\"hcqy_abs_dat_\" + abs_sht_name + \".csv\",index=False)\n",
    "    print(abs_inp.head(14))\n",
    "    \n",
    "except PermissionError:\n",
    "    print('The file we are trying to open may be open in another program, please close and try again!')\n",
    "\n"
   ]
  },
  {
   "cell_type": "code",
   "execution_count": 18,
   "id": "25d6ed14",
   "metadata": {},
   "outputs": [
    {
     "name": "stdout",
     "output_type": "stream",
     "text": [
      " Volume in drive C is Windows\n",
      " Volume Serial Number is 4632-2130\n",
      "\n",
      " Directory of C:\\Users\\hwbst6\\OneDrive - Sheffield Hallam University\\MChem\\Tom White\\TomWhiteHCQY23\n",
      "\n",
      "16/10/2023  11:16    <DIR>          .\n",
      "16/10/2023  11:16    <DIR>          ..\n",
      "11/10/2023  13:23            33,800 hcqy_plate_map_smt_edit_11202023.xlsx\n",
      "16/10/2023  11:14    <DIR>          tw_\n",
      "16/10/2023  11:16    <DIR>          tw_hcqy_13102023\n",
      "               1 File(s)         33,800 bytes\n",
      "               4 Dir(s)  138,702,426,112 bytes free\n"
     ]
    }
   ],
   "source": [
    "ls"
   ]
  },
  {
   "cell_type": "code",
   "execution_count": 3,
   "id": "a3728421",
   "metadata": {},
   "outputs": [
    {
     "name": "stdout",
     "output_type": "stream",
     "text": [
      "C:\\Users\\hwbst6\\DataTime\\HCQY\\high_content_quantum_yield\\tw_hcqy_13102023\n"
     ]
    }
   ],
   "source": [
    "cd tw_hcqy_13102023"
   ]
  },
  {
   "cell_type": "code",
   "execution_count": 5,
   "id": "6159eb61",
   "metadata": {},
   "outputs": [
    {
     "name": "stdout",
     "output_type": "stream",
     "text": [
      "   Well  580   581   582   583   584   585   586   587   588  ...     731  \\\n",
      "0    A1  190   186   165   196   180   186   173   184   214  ...    3469   \n",
      "1    A2  886   919   869   956  1018  1049  1133  1179  1315  ...   62014   \n",
      "2    A3  539   605   628   653   702   715   753   786   823  ...   40362   \n",
      "3    A4  471   441   473   475   507   537   567   624   598  ...   25331   \n",
      "4    A5  211   234   203   239   281   237   284   314   324  ...   14505   \n",
      "..  ...  ...   ...   ...   ...   ...   ...   ...   ...   ...  ...     ...   \n",
      "91   H8  883   945  1029  1145  1216  1464  1660  1853  1974  ...  182888   \n",
      "92   H9  893  1011  1074  1190  1289  1437  1548  1714  1886  ...  133382   \n",
      "93  H10  901   857   880   937   974  1116  1203  1308  1454  ...   83876   \n",
      "94  H11  741   775   796   900   860   911  1047  1113  1228  ...   32268   \n",
      "95  H12  181   187   206   205   234   264   280   322   311  ...   18709   \n",
      "\n",
      "       732     733     734     735     736     737     738    739    740  \n",
      "0     3842    4511    4273    4611    4555    5042    4852   5252   5364  \n",
      "1    56306   50659   48350   44444   43411   37957   37932  35995  30608  \n",
      "2    37537   37705   30158   27538   25323   24091   25141  22091  24297  \n",
      "3    26342   25214   24785   23055   20901   19469   19554  17766  15462  \n",
      "4    15147   13879   13308   12296   11389   10925   12203  12050  10413  \n",
      "..     ...     ...     ...     ...     ...     ...     ...    ...    ...  \n",
      "91  170673  150705  150788  132948  123533  106587  111445  96243  89931  \n",
      "92  130831  112768  110374  101440   90171   78715   80569  71526  62005  \n",
      "93   73318   74601   67763   58661   57613   48181   48518  45573  39443  \n",
      "94   28756   30650   29181   24335   20767   23390   18672  19619  17513  \n",
      "95   17122   16539   17215   15626   15542   15547   12791  12513  12937  \n",
      "\n",
      "[96 rows x 162 columns]\n",
      "   Well  580   581   582   583   584   585   586   587   588  ...     731  \\\n",
      "0    A1  190   186   165   196   180   186   173   184   214  ...    3469   \n",
      "1    A2  886   919   869   956  1018  1049  1133  1179  1315  ...   62014   \n",
      "2    A3  539   605   628   653   702   715   753   786   823  ...   40362   \n",
      "3    A4  471   441   473   475   507   537   567   624   598  ...   25331   \n",
      "4    A5  211   234   203   239   281   237   284   314   324  ...   14505   \n",
      "..  ...  ...   ...   ...   ...   ...   ...   ...   ...   ...  ...     ...   \n",
      "91   H8  883   945  1029  1145  1216  1464  1660  1853  1974  ...  182888   \n",
      "92   H9  893  1011  1074  1190  1289  1437  1548  1714  1886  ...  133382   \n",
      "93  H10  901   857   880   937   974  1116  1203  1308  1454  ...   83876   \n",
      "94  H11  741   775   796   900   860   911  1047  1113  1228  ...   32268   \n",
      "95  H12  181   187   206   205   234   264   280   322   311  ...   18709   \n",
      "\n",
      "       732     733     734     735     736     737     738    739    740  \n",
      "0     3842    4511    4273    4611    4555    5042    4852   5252   5364  \n",
      "1    56306   50659   48350   44444   43411   37957   37932  35995  30608  \n",
      "2    37537   37705   30158   27538   25323   24091   25141  22091  24297  \n",
      "3    26342   25214   24785   23055   20901   19469   19554  17766  15462  \n",
      "4    15147   13879   13308   12296   11389   10925   12203  12050  10413  \n",
      "..     ...     ...     ...     ...     ...     ...     ...    ...    ...  \n",
      "91  170673  150705  150788  132948  123533  106587  111445  96243  89931  \n",
      "92  130831  112768  110374  101440   90171   78715   80569  71526  62005  \n",
      "93   73318   74601   67763   58661   57613   48181   48518  45573  39443  \n",
      "94   28756   30650   29181   24335   20767   23390   18672  19619  17513  \n",
      "95   17122   16539   17215   15626   15542   15547   12791  12513  12937  \n",
      "\n",
      "[96 rows x 162 columns]\n"
     ]
    }
   ],
   "source": [
    "#script for converting *.xlsx or csv data to a neat Fluorescentcs format\n",
    "\n",
    "import os\n",
    "import pandas as pd\n",
    "import numpy as np\n",
    "\n",
    "# input varibles go here\n",
    "flu_sht_name = \"TRno4897\" # this is varible for sheet name/experiment number\n",
    "#sps_name = \"RNA Quantifluor-003- 5-7-22.xlsx\" # this is the spread sheet name if your using a spread sheet\n",
    "flu_inp= pd.DataFrame()\n",
    "#load in plate reader output uncomment the one you want to use\n",
    "try:\n",
    "    # use this if your reading in from a multisheet excel\n",
    "    #flu_inp = pd.read_excel(sps_name, sheet_name = sht_name)\n",
    "\n",
    "    # use this if your reading from a *csv file\n",
    "    flu_inp = pd.read_csv(flu_sht_name + '.csv')\n",
    "except PermissionError:\n",
    "    print('The file we are trying to open may be open in another program, please close and try again!')\n",
    "    \n",
    "\n",
    "try: #transpose and remove some columns, these may need changeing\n",
    "    flu_inp= pd.DataFrame.transpose(flu_inp)\n",
    "    flu_inp = flu_inp.drop(axis=1, columns=[0,1,2,3])\n",
    "    #print(flu_inp)\n",
    "except KeyError:\n",
    "    print('Check the your input file!') \n",
    "    \n",
    "try:    #flu_inp.sort_index()\n",
    "    flu_inp = flu_inp.reset_index(drop=True)\n",
    "    #build well name and remove related columns\n",
    "    flu_inp.iloc[0:,1] = flu_inp.iloc[0:,1].astype(str)\n",
    "    flu_inp.iloc[0:,2] = flu_inp.iloc[0:,0].astype(str) + flu_inp.iloc[0:,1].astype(str)\n",
    "    \n",
    "    flu_inp = flu_inp.drop(axis=1, columns=[4,5])\n",
    "    flu_inp = pd.DataFrame.drop(flu_inp,axis=0, index=0)\n",
    "    flu_inp.iloc[0,0] = \"Well\"\n",
    "except IndexError:\n",
    "    print('Check the your input file!')\n",
    "\n",
    "try:     \n",
    "    flu_inp.rename(columns=flu_inp.iloc[0,0:], inplace=True) # set row 0 as col titles\n",
    "    flu_inp = flu_inp.reset_index(drop=True)\n",
    "    flu_inp = pd.DataFrame.drop(flu_inp, axis=0, index=0)\n",
    "    flu_inp = flu_inp.reset_index(drop=True)\n",
    "    print(flu_inp)\n",
    "except KeyError:\n",
    "    print('Check the your input file!')\n",
    "try: #output results\n",
    "    flu_inp.to_csv(\"hcqy_abs_dat_\" + flu_sht_name + \".csv\",index=False)\n",
    "    print(flu_inp)\n",
    "except PermissionError:\n",
    "    print('The file we are trying to open may be open in another program, please close and try again!')\n",
    "\n"
   ]
  },
  {
   "cell_type": "code",
   "execution_count": 75,
   "id": "05c23b88",
   "metadata": {},
   "outputs": [
    {
     "name": "stdout",
     "output_type": "stream",
     "text": [
      "1\n",
      "2\n",
      "3\n",
      "4\n",
      "5\n",
      "7\n",
      "8\n",
      "9\n",
      "10\n",
      "11\n",
      "13\n",
      "14\n",
      "15\n",
      "16\n",
      "17\n",
      "19\n",
      "20\n",
      "21\n",
      "22\n",
      "23\n",
      "     PS ex_abs ex_abs_1\n",
      "0   TPP  0.539    0.539\n",
      "1   TPP  0.361    0.361\n",
      "2   TPP  0.236    0.236\n",
      "3   TPP  0.138    0.138\n",
      "4   TPP  0.084    0.084\n",
      "5    C5  1.273    0.048\n",
      "6    C5  0.865    1.273\n",
      "7    C5  0.479    0.865\n",
      "8    C5  0.253    0.479\n",
      "9    C5  0.133    0.253\n",
      "10   C6  0.527    0.133\n",
      "11   C6  0.385    0.045\n",
      "12   C6  0.281    0.527\n",
      "13   C6   0.15    0.385\n",
      "14   C6  0.082    0.281\n",
      "15   C7  1.311     0.15\n",
      "16   C7  0.877    0.082\n",
      "17   C7  0.439    0.035\n",
      "18   C7    0.3    1.311\n",
      "19   C7  0.041    0.877\n"
     ]
    }
   ],
   "source": [
    "# Plot and calculate gradients for Chris's optimised plate map\n",
    "hcqy_plot= pd.DataFrame()\n",
    "\n",
    "ps_lst = [\"TPP\",\"C5\",\"C6\",\"C7\"]\n",
    "\n",
    "exp_points = 5\n",
    "num_ps =4\n",
    "\n",
    "# setup columns\n",
    "hcqy_plot.insert(0,\"PS\", range(0,(exp_points*num_ps)))\n",
    "for p in range(0,len(ps_lst)):\n",
    "    #print(p*exp_points)\n",
    "    hcqy_plot.iloc[(p*exp_points):(p*(exp_points))+5] = ps_lst[p]\n",
    "# add abs values at excitation wavelength\n",
    "hcqy_plot[\"ex_abs\"] = 0\n",
    "\n",
    "for p in range(0,len(ps_lst)):\n",
    "    #print(p*exp_points)\n",
    "    n=0\n",
    "    while n <= (exp_points-1):\n",
    "        print(p*exp_points+n+1+p)\n",
    "        #hcqy_plot.iloc[(p*exp_points+n):(p*(exp_points))+1+n,1] = abs_inp.iloc[(p*exp_points+n+1):(p*(exp_points))+2+n,1] \n",
    "        hcqy_plot.iloc[(p*exp_points+n),1] = abs_inp.iloc[(p*exp_points+n+1+p),1]\n",
    "        n = n +1\n",
    "hcqy_plot[\"ex_abs_1\"] = 0\n",
    "\n",
    "for p in range(0,len(ps_lst)):\n",
    "    #print(p*exp_points)\n",
    "    n=0\n",
    "    while n <= (exp_points-1):\n",
    "        #print(n)\n",
    "        #hcqy_plot.iloc[(p*exp_points+n):(p*(exp_points))+1+n,1] = abs_inp.iloc[(p*exp_points+n+1):(p*(exp_points))+2+n,1] \n",
    "        hcqy_plot.iloc[(p*exp_points+n),2] = abs_inp.iloc[(p*exp_points+n+1),1]\n",
    "        n = n +1\n",
    "    \n",
    "print(hcqy_plot)\n",
    "\n",
    "\n",
    "    # populates experiemnt names and data point names\n",
    "    \n",
    "# populate corrected abs\n",
    "\n",
    "# populate integrated fluorescence intensities\n",
    "\n",
    "# set up gradiant data frame with experiemnt by experiemnt possitions\n",
    "\n",
    "# populate gradiant data frame\n",
    "\n",
    "# QC on gradient data frame\n",
    "\n",
    "# prep for QY calc collect standard QY values and check solvents\n",
    "# take mean of standard gradient\n",
    "\n",
    "# calculate QYs expoert to *.csv\n",
    "\n",
    "# generate plots\n",
    "\n",
    "\n",
    "\n"
   ]
  },
  {
   "cell_type": "code",
   "execution_count": 2,
   "id": "b22ba0da",
   "metadata": {},
   "outputs": [
    {
     "data": {
      "text/plain": [
       "'C:\\\\Users\\\\hwbst6\\\\DataTime\\\\HCQY\\\\high_content_quantum_yield'"
      ]
     },
     "execution_count": 2,
     "metadata": {},
     "output_type": "execute_result"
    }
   ],
   "source": [
    "pwd"
   ]
  },
  {
   "cell_type": "code",
   "execution_count": 4,
   "id": "5d2bb7a0",
   "metadata": {},
   "outputs": [
    {
     "name": "stdout",
     "output_type": "stream",
     "text": [
      " Volume in drive C is Windows\n",
      " Volume Serial Number is 4632-2130\n",
      "\n",
      " Directory of C:\\Users\\hwbst6\\DataTime\\HCQY\\high_content_quantum_yield\\tw_hcqy_13102023\n",
      "\n",
      "02/01/2024  17:48    <DIR>          .\n",
      "02/01/2024  17:48    <DIR>          ..\n",
      "19/10/2023  09:18           114,892 hcqy_abs_dat_TRno4895.csv\n",
      "18/10/2023  19:27            87,737 hcqy_abs_dat_TRno4897.csv\n",
      "13/10/2023  15:24           121,664 TRno4895.CSV\n",
      "13/10/2023  15:26            93,368 TRno4897.CSV\n",
      "               4 File(s)        417,661 bytes\n",
      "               2 Dir(s)  72,596,746,240 bytes free\n"
     ]
    }
   ],
   "source": [
    "ls"
   ]
  },
  {
   "cell_type": "code",
   "execution_count": 53,
   "id": "668db1d0",
   "metadata": {},
   "outputs": [
    {
     "name": "stdout",
     "output_type": "stream",
     "text": [
      "     PS ex_abs_1 ex_abs_2 ex_abs_3 ex_abs_4  ex_int_flu_1  ex_int_flu_2  \\\n",
      "0   TPP    0.144    0.141    0.159    0.165      14524192      14398282   \n",
      "1   TPP    0.104     0.11    0.108    0.111       9080515      11198918   \n",
      "2   TPP    0.077    0.118    0.095    0.073       6152878       5878280   \n",
      "3   TPP    0.056    0.059    0.057    0.055       2958799       3672397   \n",
      "4   TPP    0.044    0.043    0.123     0.05       1515327       1469500   \n",
      "5    C5    0.349    0.356    0.373    0.369      34159551      36828600   \n",
      "6    C5    0.242    0.244    0.253    0.256      23569200      27353362   \n",
      "7    C5    0.144    0.136    0.137    0.156      13534371      14775022   \n",
      "8    C5    0.095    0.121    0.095    0.113       6901846       7074285   \n",
      "9    C5    0.068    0.035    0.091    0.075       2859116        490640   \n",
      "10   C6    0.395    0.406    0.407    0.398      38090287      41023313   \n",
      "11   C6    0.277    0.288    0.282    0.298      28058668      21730434   \n",
      "12   C6    0.161    0.152    0.187     0.19      17651899      15017690   \n",
      "13   C6      0.1    0.101    0.105    0.102       9055642       8444293   \n",
      "14   C6    0.064    0.077    0.067    0.069       3135002       3994832   \n",
      "15   C7    0.425    0.423    0.431    0.438      41893825      43592546   \n",
      "16   C7     0.26     0.27    0.356    0.302      30902610      29153724   \n",
      "17   C7    0.173    0.167    0.165    0.177      16427912      14045203   \n",
      "18   C7    0.094    0.092     0.12    0.107       7990505       7373449   \n",
      "19   C7    0.071     0.07    0.079    0.088       3536957       3578846   \n",
      "\n",
      "    ex_int_flu_3  ex_int_flu_4  \n",
      "0       15985068      16448713  \n",
      "1        9850510      10643960  \n",
      "2        6997934       6032332  \n",
      "3        3590221       3402416  \n",
      "4        1040803       1745985  \n",
      "5       37092171      36390695  \n",
      "6       25119971      27747299  \n",
      "7       14394709      14922574  \n",
      "8        7064974       7574447  \n",
      "9        5103208       3987205  \n",
      "10      41191299      39589467  \n",
      "11      30033544      30655905  \n",
      "12      19305247      16304335  \n",
      "13       8595506       8360131  \n",
      "14       3914188       3877298  \n",
      "15      42428441      41331343  \n",
      "16      29972262      30792186  \n",
      "17      16610289      18374297  \n",
      "18      10808625       6571478  \n",
      "19       3891197       3746918  \n"
     ]
    }
   ],
   "source": [
    "# Plot and calculate gradients for Chris's optimised plate map\n",
    "hcqy_plot= pd.DataFrame()\n",
    "\n",
    "ps_lst = [\"TPP\",\"C5\",\"C6\",\"C7\"]\n",
    "\n",
    "exp_points = 5\n",
    "num_ps = 4\n",
    "num_rep = 4\n",
    "abs_wav_len_start = 400\n",
    "exc_wav_len = 516\n",
    "\n",
    "# setup columns\n",
    "hcqy_plot.insert(0,\"PS\", range(0,(exp_points*num_ps)))\n",
    "for p in range(0,len(ps_lst)):\n",
    "    hcqy_plot.iloc[(p*exp_points):(p*(exp_points))+5] = ps_lst[p]\n",
    "    \n",
    "# define excitation wavelength\n",
    "exc_col_num = int((exc_wav_len - abs_wav_len_start) / 2)\n",
    "\n",
    "# populates experiemnt names and data point names\n",
    "# add abs values at excitation wavelength\n",
    "hcqy_plot[\"ex_abs_1\"], hcqy_plot[\"ex_abs_2\"], hcqy_plot[\"ex_abs_3\"], hcqy_plot[\"ex_abs_4\"]  = [0, 0, 0, 0]\n",
    "hcqy_plot[\"ex_int_flu_1\"], hcqy_plot[\"ex_int_flu_2\"], hcqy_plot[\"ex_int_flu_3\"], hcqy_plot[\"ex_int_flu_4\"]  = [0, 0, 0, 0]\n",
    "\n",
    "# populate corrected abs\n",
    "# add abs values at excitation wavelength\n",
    "for x in range(0,(num_rep)):\n",
    "    for p in range(0,len(ps_lst)):\n",
    "        #print(p*exp_points)\n",
    "        n=0 \n",
    "        g = 0\n",
    "        if p >= 2:\n",
    "            g=36\n",
    "        while n <= (exp_points-1): \n",
    "            hcqy_plot.iloc[(p*exp_points+n),x+1] = abs_inp.iloc[(p*exp_points+n+1+p+x*12+g),exc_col_num]\n",
    "            n = n +1\n",
    "            \n",
    "#selecting columns to convet to numeric using df.columns\n",
    "cols = flu_inp.columns.drop('Well')\n",
    "flu_inp[cols] = flu_inp[cols].apply(pd.to_numeric, errors='coerce')\n",
    "\n",
    "# populate integrated fluorescence intensities\n",
    "for x in range(0,(num_rep)):\n",
    "    for p in range(0,len(ps_lst)):\n",
    "        #print(p*exp_points)\n",
    "        n=0 \n",
    "        g = 0\n",
    "        if p >= 2:\n",
    "            g=36\n",
    "        while n <= (exp_points-1): \n",
    "            #hcqy_plot.iloc[(p*exp_points+n),x+5] = flu_inp.iloc[(p*exp_points+n+1+p+x*12+g),0]\n",
    "            hcqy_plot.iloc[(p*exp_points+n),x+5] = flu_inp.iloc[(p*exp_points+n+1+p+x*12+g),1:].sum()\n",
    "            n = n +1\n",
    "\n",
    "print(hcqy_plot)\n",
    "\n",
    "\n",
    "# set up gradiant data frame with experiemnt by experiemnt possitions\n",
    "\n",
    "# populate gradiant data frame\n",
    "\n",
    "# QC on gradient data frame\n",
    "\n",
    "# prep for QY calc collect standard QY values and check solvents\n",
    "# take mean of standard gradient\n",
    "\n",
    "# calculate QYs expoert to *.csv\n",
    "\n",
    "# generate plots\n",
    "\n",
    "\n",
    "\n"
   ]
  },
  {
   "cell_type": "code",
   "execution_count": 16,
   "id": "93114c5d",
   "metadata": {},
   "outputs": [
    {
     "name": "stdout",
     "output_type": "stream",
     "text": [
      "A2A3A4A5A6A7A8A9A10A11A12B1B2B3B4B5B6B7B8B9B10B11B12C1C2C3C4C5C6C7C8C9C10C11C12D1D2D3D4D5D6D7D8D9D10D11D12E1E2E3E4E5E6E7E8E9E10E11E12F1F2F3F4F5F6F7F8F9F10F11F12G1G2G3G4G5G6G7G8G9G10G11G12H1H2H3H4H5H6H7H8H9H10H11H12\n",
      "49\n",
      "E2\n"
     ]
    }
   ],
   "source": [
    "print(abs_inp.iloc[1:,0].sum())\n",
    "print((12*4+1))\n",
    "print(abs_inp.iloc[(12*4+1),0])"
   ]
  },
  {
   "cell_type": "code",
   "execution_count": 2,
   "id": "05c2eaf3",
   "metadata": {},
   "outputs": [
    {
     "data": {
      "text/plain": [
       "'C:\\\\Users\\\\hwbst6\\\\DataTime\\\\HCQY\\\\high_content_quantum_yield'"
      ]
     },
     "execution_count": 2,
     "metadata": {},
     "output_type": "execute_result"
    }
   ],
   "source": [
    "pwd"
   ]
  },
  {
   "cell_type": "code",
   "execution_count": 3,
   "id": "f2d7865a",
   "metadata": {},
   "outputs": [
    {
     "name": "stdout",
     "output_type": "stream",
     "text": [
      " Volume in drive C is Windows\n",
      " Volume Serial Number is 4632-2130\n",
      "\n",
      " Directory of C:\\Users\\hwbst6\\DataTime\\HCQY\\high_content_quantum_yield\n",
      "\n",
      "03/01/2024  15:00    <DIR>          .\n",
      "03/01/2024  15:00    <DIR>          ..\n",
      "02/01/2024  18:15    <DIR>          .ipynb_checkpoints\n",
      "03/01/2024  15:00            32,092 HCQY_001.ipynb\n",
      "02/01/2024  18:11                28 README.md\n",
      "02/01/2024  17:48    <DIR>          tw_hcqy_13102023\n",
      "               2 File(s)         32,120 bytes\n",
      "               4 Dir(s)  72,114,556,928 bytes free\n"
     ]
    }
   ],
   "source": [
    "ls"
   ]
  },
  {
   "cell_type": "code",
   "execution_count": 4,
   "id": "bd383512",
   "metadata": {},
   "outputs": [
    {
     "name": "stdout",
     "output_type": "stream",
     "text": [
      "C:\\Users\\hwbst6\\DataTime\\HCQY\\high_content_quantum_yield\\tw_hcqy_13102023\n"
     ]
    }
   ],
   "source": [
    "cd tw_hcqy_13102023/"
   ]
  },
  {
   "cell_type": "code",
   "execution_count": 72,
   "id": "a054afcf",
   "metadata": {},
   "outputs": [
    {
     "data": {
      "image/png": "[encoded data removed]",
      "text/plain": [
       "<Figure size 640x480 with 1 Axes>"
      ]
     },
     "metadata": {},
     "output_type": "display_data"
    }
   ],
   "source": [
    "# developing plots\n",
    "import matplotlib.pyplot as plt\n",
    "import numpy as np\n",
    "\n",
    "x = hcqy_plot.iloc[0:5,1]\n",
    "y = hcqy_plot.iloc[0:5,5]\n",
    "plt.scatter(x, y, s=70, facecolors='none', edgecolors='hotpink', linewidths=2.0, marker = \"h\")\n",
    "\n",
    "x = hcqy_plot.iloc[0:5,2]\n",
    "y = hcqy_plot.iloc[0:5,6]\n",
    "plt.scatter(x, y,s=70, facecolors='none', edgecolors='#88c999', linewidths=2.0, marker = \"H\" )\n",
    "\n",
    "plt.show()"
   ]
  },
  {
   "cell_type": "code",
   "execution_count": null,
   "id": "9a53a8c5",
   "metadata": {},
   "outputs": [],
   "source": []
  }
 ],
 "metadata": {
  "kernelspec": {
   "display_name": "Python 3 (ipykernel)",
   "language": "python",
   "name": "python3"
  },
  "language_info": {
   "codemirror_mode": {
    "name": "ipython",
    "version": 3
   },
   "file_extension": ".py",
   "mimetype": "text/x-python",
   "name": "python",
   "nbconvert_exporter": "python",
   "pygments_lexer": "ipython3",
   "version": "3.9.13"
  }
 },
 "nbformat": 4,
 "nbformat_minor": 5
}
